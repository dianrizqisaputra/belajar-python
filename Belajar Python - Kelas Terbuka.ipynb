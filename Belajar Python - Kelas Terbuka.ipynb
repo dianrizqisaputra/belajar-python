{
 "cells": [
  {
   "attachments": {},
   "cell_type": "markdown",
   "metadata": {},
   "source": [
    "Deklarasi Variabel"
   ]
  },
  {
   "cell_type": "code",
   "execution_count": 21,
   "metadata": {},
   "outputs": [
    {
     "name": "stdout",
     "output_type": "stream",
     "text": [
      "Nilai a adalah 5\n",
      "Nilai b adalah 10\n",
      "Nilai panjang adalah 1000\n",
      "Nilai a adalah 10\n",
      "Nilai b adalah 7\n"
     ]
    }
   ],
   "source": [
    "# Membuat variabel\n",
    "a = 5\n",
    "b = 10\n",
    "panjang = 1000\n",
    "\n",
    "print(\"Nilai a adalah\",a)\n",
    "print(\"Nilai b adalah\",b)\n",
    "print(\"Nilai panjang adalah\",panjang)\n",
    "\n",
    "# Mengganti isi variabel\n",
    "a = b\n",
    "b = 7\n",
    "\n",
    "print(\"Nilai a adalah\",a)\n",
    "print(\"Nilai b adalah\",b)"
   ]
  },
  {
   "attachments": {},
   "cell_type": "markdown",
   "metadata": {},
   "source": [
    "Macam Macam Tipe Data"
   ]
  },
  {
   "cell_type": "code",
   "execution_count": 22,
   "metadata": {},
   "outputs": [
    {
     "name": "stdout",
     "output_type": "stream",
     "text": [
      "data : 1 bertipe : <class 'int'>\n",
      "data : 1.5 bertipe : <class 'float'>\n",
      "data : 1.5 bertipe : <class 'float'>\n",
      "data : True bertipe : <class 'bool'>\n",
      "data : (5+6j) bertipe : <class 'complex'>\n",
      "data : c_double(10.5) bertipe : <class 'ctypes.c_double'>\n"
     ]
    }
   ],
   "source": [
    "# tipe data: Angka satuan (integer)\n",
    "data_integer = 1\n",
    "print(\"data :\", data_integer, \"bertipe :\", type(data_integer))\n",
    "\n",
    "# tipe data: Angka dengan koma (float)\n",
    "data_float = 1.5\n",
    "print(\"data :\", data_float, \"bertipe :\", type(data_float))\n",
    "\n",
    "# tipe data: Kumpulan karakter (string)\n",
    "data_string = 1.5\n",
    "print(\"data :\", data_string, \"bertipe :\", type(data_string))\n",
    "\n",
    "# tipe data: biner true/false (boolean)\n",
    "data_bool = True\n",
    "print(\"data :\", data_bool, \"bertipe :\", type(data_bool))\n",
    "\n",
    "# tipe data: komplesk (complex)\n",
    "data_complex = complex(5,6)\n",
    "print(\"data :\", data_complex, \"bertipe :\", type(data_complex))\n",
    "\n",
    "# tipe data: dari bahasa c\n",
    "from ctypes import c_double\n",
    "data_c_double = c_double(10.5)\n",
    "print(\"data :\", data_c_double, \"bertipe :\", type(data_c_double))"
   ]
  },
  {
   "attachments": {},
   "cell_type": "markdown",
   "metadata": {},
   "source": [
    "Merubah Tipe Data"
   ]
  },
  {
   "cell_type": "code",
   "execution_count": 26,
   "metadata": {},
   "outputs": [
    {
     "name": "stdout",
     "output_type": "stream",
     "text": [
      "==== INTEGER ====\n",
      "data = 1 bertipe <class 'int'>\n",
      "data = 1.0 bertipe <class 'float'>\n",
      "data = 1 bertipe <class 'str'>\n",
      "data = True bertipe <class 'bool'>\n",
      "====  FLOAT  ====\n",
      "data = 0.5 bertipe <class 'float'>\n",
      "data = 0 bertipe <class 'int'>\n",
      "data = 0.5 bertipe <class 'str'>\n",
      "data = True bertipe <class 'bool'>\n",
      "==== BOOLEAN ====\n",
      "data = True bertipe <class 'bool'>\n",
      "data = 1 bertipe <class 'int'>\n",
      "data = True bertipe <class 'str'>\n",
      "data = 1.0 bertipe <class 'float'>\n",
      "==== STRING  ====\n",
      "data = 10 bertipe <class 'str'>\n",
      "data = 10 bertipe <class 'int'>\n",
      "data = True bertipe <class 'bool'>\n",
      "data = 10.0 bertipe <class 'float'>\n"
     ]
    }
   ],
   "source": [
    "# Tipe Data INT\n",
    "print(\"==== INTEGER ====\")\n",
    "data_int = 1\n",
    "print(\"data =\", data_int,\"bertipe\", type(data_int))\n",
    "\n",
    "# Merubah data intteger manjadi float\n",
    "data_float = float(data_int)\n",
    "print(\"data =\", data_float,\"bertipe\", type(data_float))\n",
    "\n",
    "# Merubah data intteger manjadi sting\n",
    "data_str = str(data_int)\n",
    "print(\"data =\", data_str,\"bertipe\", type(data_str))\n",
    "\n",
    "# Merubah data intteger manjadi bool\n",
    "data_bool = bool(data_int) # Akan bernilai false jika variabel bernilai 0\n",
    "print(\"data =\", data_bool,\"bertipe\", type(data_bool))\n",
    "\n",
    "\n",
    "\n",
    "# Tipe Data FLOAT\n",
    "print(\"====  FLOAT  ====\")\n",
    "data_float = 0.5\n",
    "print(\"data =\", data_float,\"bertipe\", type(data_float))\n",
    "\n",
    "# Merubah data float manjadi intteger\n",
    "data_int = int(data_float) # akan dibulatkan kebawah\n",
    "print(\"data =\", data_int,\"bertipe\", type(data_int))\n",
    "\n",
    "# Merubah data float manjadi string\n",
    "data_str = str(data_float)\n",
    "print(\"data =\", data_str,\"bertipe\", type(data_str))\n",
    "\n",
    "# Merubah data float manjadi bool\n",
    "data_bool = bool(data_float) # Akan bernilai false jika variabel bernilai 0\n",
    "print(\"data =\", data_bool,\"bertipe\", type(data_bool))\n",
    "\n",
    "\n",
    "\n",
    "# Tipe Data BOOLEAN\n",
    "print(\"==== BOOLEAN ====\")\n",
    "data_bool = True \n",
    "print(\"data =\", data_bool,\"bertipe\", type(data_bool))\n",
    "\n",
    "# Merubah data boolean manjadi intteger\n",
    "data_int = int(data_bool) \n",
    "print(\"data =\", data_int,\"bertipe\", type(data_int))\n",
    "\n",
    "# Merubah data boolean manjadi string\n",
    "data_str = str(data_bool)\n",
    "print(\"data =\", data_str,\"bertipe\", type(data_str))\n",
    "\n",
    "# Merubah data boolean manjadi float\n",
    "data_float = float(data_bool) \n",
    "print(\"data =\", data_float,\"bertipe\", type(data_float))\n",
    "\n",
    "\n",
    "\n",
    "# Tipe Data STRING\n",
    "print(\"==== STRING  ====\")\n",
    "data_str = \"10\" \n",
    "print(\"data =\", data_str,\"bertipe\", type(data_str))\n",
    "\n",
    "# Merubah data string manjadi intteger\n",
    "data_int = int(data_str) # Data str tidak dapat di ubah menjadi int kecuali angka\n",
    "print(\"data =\", data_int,\"bertipe\", type(data_int))\n",
    "\n",
    "# Merubah data string manjadi boolean\n",
    "data_bool = bool(data_str) # Jika variabel integer kosong maka akan bernilai False\n",
    "print(\"data =\", data_bool,\"bertipe\", type(data_bool))\n",
    "\n",
    "# Merubah data string manjadi float\n",
    "data_float = float(data_str) # Data str tidak dapat di ubah menjadi float kecuali angka\n",
    "print(\"data =\", data_float,\"bertipe\", type(data_float))"
   ]
  },
  {
   "attachments": {},
   "cell_type": "markdown",
   "metadata": {},
   "source": [
    "Membuat Input User"
   ]
  },
  {
   "cell_type": "code",
   "execution_count": 37,
   "metadata": {},
   "outputs": [
    {
     "name": "stdout",
     "output_type": "stream",
     "text": [
      "Data : Dian bertipe <class 'str'>\n",
      "Data : 10 bertipe <class 'int'>\n",
      "Data : False bertipe <class 'bool'>\n"
     ]
    }
   ],
   "source": [
    "# Data yang dimasukan berupa string\n",
    "data = input(\"Masukan data : \")\n",
    "print(\"Data :\",data,\"bertipe\",type(data))\n",
    "\n",
    "# Data yang dimasukan berupa integer\n",
    "data_int = int(input(\"Masukan angka : \"))\n",
    "print(\"Data :\",data_int,\"bertipe\",type(data_int))\n",
    "\n",
    "# Data yang dimasukan berupa boolean\n",
    "data_bool = bool(int(input(\"Masukan nilai boolean : \")))\n",
    "print(\"Data :\",data_bool,\"bertipe\",type(data_bool))"
   ]
  },
  {
   "attachments": {},
   "cell_type": "markdown",
   "metadata": {},
   "source": [
    "Operasi Aritmatika"
   ]
  },
  {
   "cell_type": "code",
   "execution_count": 54,
   "metadata": {},
   "outputs": [
    {
     "name": "stdout",
     "output_type": "stream",
     "text": [
      "10 + 3 = 13\n",
      "10 - 3 = 7\n",
      "10 * 3 = 30\n",
      "10 / 3 = 3.3333333333333335\n",
      "10 ** 3 = 1000\n",
      "10 % 3 = 1\n",
      "10 // 3 = 3\n",
      "3 ** 2 * 4 + 3 / 2 - 2 % 4 // 3 = 37.5\n",
      "( 3 + 2 ) * 4 = 20\n"
     ]
    }
   ],
   "source": [
    "a = 10\n",
    "b = 3\n",
    "\n",
    "# Operasi penjumlahan +\n",
    "hasil = a+b\n",
    "print(a,\"+\",b,\"=\",hasil)\n",
    "\n",
    "# Operasi pengurangan -\n",
    "hasil = a-b\n",
    "print(a,\"-\",b,\"=\",hasil)\n",
    "\n",
    "# Operasi perkalian *\n",
    "hasil = a*b\n",
    "print(a,\"*\",b,\"=\",hasil)\n",
    "\n",
    "# Operasi pembagian /\n",
    "hasil = a/b\n",
    "print(a,\"/\",b,\"=\",hasil)\n",
    "\n",
    "# Operasi ekponen (pangkat) **\n",
    "hasil = a**b\n",
    "print(a,\"**\",b,\"=\",hasil)\n",
    "\n",
    "# Operasi modulus %\n",
    "hasil = a%b\n",
    "print(a,\"%\",b,\"=\",hasil)\n",
    "\n",
    "# Operasi floor //\n",
    "hasil = a//b\n",
    "print(a,\"//\",b,\"=\",hasil)\n",
    "\n",
    "\n",
    "# Prioritas operasi (operational precadence)\n",
    "\n",
    "# Urutan:\n",
    "# - ()\n",
    "# - exponen **\n",
    "# - perkalian * / % //\n",
    "# - penjumlahan + -\n",
    "\n",
    "x = 3\n",
    "y = 2\n",
    "z = 4\n",
    "\n",
    "hasil = x ** y * z + x / y - y % z // x\n",
    "print(x ,\"**\", y ,\"*\", z ,\"+\", x ,\"/\", y ,\"-\", y ,\"%\", z ,\"//\", x ,\"=\", hasil)\n",
    "\n",
    "hasil = (x + y) * z\n",
    "print('(', x ,'+', y ,')','*', z ,'=', hasil)"
   ]
  }
 ],
 "metadata": {
  "kernelspec": {
   "display_name": "Python 3",
   "language": "python",
   "name": "python3"
  },
  "language_info": {
   "codemirror_mode": {
    "name": "ipython",
    "version": 3
   },
   "file_extension": ".py",
   "mimetype": "text/x-python",
   "name": "python",
   "nbconvert_exporter": "python",
   "pygments_lexer": "ipython3",
   "version": "3.10.10"
  },
  "orig_nbformat": 4,
  "vscode": {
   "interpreter": {
    "hash": "f2ccb58c476f33ba3e3aee7ac07234ef6b8217ef24ad64d2a7d4fed1a57c1cd2"
   }
  }
 },
 "nbformat": 4,
 "nbformat_minor": 2
}
